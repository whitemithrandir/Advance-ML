{
 "cells": [
  {
   "cell_type": "code",
   "execution_count": 1,
   "id": "d8773816",
   "metadata": {},
   "outputs": [],
   "source": [
    "import math, copy\n",
    "import numpy as np\n",
    "import matplotlib.pyplot as plt\n",
    "plt.style.use('./deeplearning.mplstyle')\n",
    "from lab_utils_uni import plt_house_x, plt_contour_wgrad, plt_divergence, plt_gradients"
   ]
  },
  {
   "cell_type": "code",
   "execution_count": 13,
   "id": "a41268c9",
   "metadata": {},
   "outputs": [
    {
     "ename": "SyntaxError",
     "evalue": "invalid syntax (Temp/ipykernel_17664/3249794051.py, line 40)",
     "output_type": "error",
     "traceback": [
      "\u001b[1;36m  File \u001b[1;32m\"C:\\Users\\SABANK~1.D\\AppData\\Local\\Temp/ipykernel_17664/3249794051.py\"\u001b[1;36m, line \u001b[1;32m40\u001b[0m\n\u001b[1;33m    def gradient_descent(x, y, w_in, b_in, alpha, num_iters, cost_function, gradient_function):\u001b[0m\n\u001b[1;37m    ^\u001b[0m\n\u001b[1;31mSyntaxError\u001b[0m\u001b[1;31m:\u001b[0m invalid syntax\n"
     ]
    }
   ],
   "source": [
    "# Load our data set\n",
    "x_train = np.array([1.0, 2.0])   #features\n",
    "y_train = np.array([300.0, 500.0])   #target value\n",
    "\n",
    "# w = slope\n",
    "\n",
    "def compute_cost(x,y,w,b):\n",
    "    \n",
    "    m=x.shape[0]\n",
    "    cost=0\n",
    "    \n",
    "    for i in range(m):\n",
    "        f_wb = w*x[i] + b\n",
    "        cost = cost  + (f_wb - y[i])**2\n",
    "    total_cost = 1/(2*m) * cost\n",
    "    \n",
    "    return total_cost\n",
    "\n",
    "def compute_gradient(x,y,w,b):\n",
    "    \n",
    "    m = x.shape[0]\n",
    "    dj_dw = 0\n",
    "    dj_db = 0\n",
    "    \n",
    "    for i in range(m):\n",
    "        f_wb = w*x[i] + b\n",
    "        \n",
    "        dj_dw = dj_dw + (f_wb - y[i])*x[i]\n",
    "        dj_db = dj_db + (f_wb - y[i])\n",
    "        \n",
    "    dj_dw = dj_dw/m\n",
    "    dj_db = dj_db/m\n",
    "    \n",
    "    return dj_db, dj_dw\n",
    "\n",
    "plt_gradients(x_train, y_train, compute_cost, compute_gradient)\n",
    "plt.show(\n",
    "\n",
    "\n",
    "def gradient_descent(x, y, w_in, b_in, alpha, num_iters, cost_function, gradient_function): \n",
    " \n",
    "    w = copy.deepcopy(w_in)\n",
    "    J_history = []\n",
    "    p_history = []\n",
    "    b = b_in\n",
    "    w = w_in\n",
    "\n",
    "    for i in range(num_iters):\n",
    "        dj_db, dj_dw = gradient_function(x, y, w , b)\n",
    "        \n",
    "        b = b - alpha*dj_db\n",
    "        w = w - alpha*dj_dw\n",
    "    \n",
    "        if i<10000\n",
    "    \n",
    "        \n",
    "    \n",
    "    \n",
    "        \n",
    "        \n",
    "        \n",
    "        \n",
    "        \n",
    "\n",
    "\n"
   ]
  },
  {
   "cell_type": "code",
   "execution_count": 11,
   "id": "3ac50fa7",
   "metadata": {},
   "outputs": [
    {
     "name": "stdout",
     "output_type": "stream",
     "text": [
      "y ID:  2717782718016 Value:  [1, 2, [3, 5], 4]\n",
      "z ID:  2717782720448 Value:  [1, 2, [3, 5], 4]\n"
     ]
    }
   ],
   "source": [
    "import copy\n",
    " \n",
    "# initializing list 1\n",
    "x = [1, 2, [3, 5], 4]\n",
    " \n",
    "# using copy for shallow copy\n",
    "y = copy.copy(x)\n",
    "print(\"y ID: \", id(y), \"Value: \", y)\n",
    "\n",
    "\n",
    "# using deepcopy for deepcopy\n",
    "z = copy.deepcopy(x)\n",
    "print(\"z ID: \", id(x), \"Value: \", z)"
   ]
  },
  {
   "cell_type": "code",
   "execution_count": null,
   "id": "9f270ab8",
   "metadata": {},
   "outputs": [],
   "source": []
  }
 ],
 "metadata": {
  "kernelspec": {
   "display_name": "Python 3 (ipykernel)",
   "language": "python",
   "name": "python3"
  },
  "language_info": {
   "codemirror_mode": {
    "name": "ipython",
    "version": 3
   },
   "file_extension": ".py",
   "mimetype": "text/x-python",
   "name": "python",
   "nbconvert_exporter": "python",
   "pygments_lexer": "ipython3",
   "version": "3.9.7"
  }
 },
 "nbformat": 4,
 "nbformat_minor": 5
}
